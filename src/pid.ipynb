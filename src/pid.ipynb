{
 "cells": [
  {
   "cell_type": "code",
   "execution_count": 1,
   "metadata": {},
   "outputs": [],
   "source": [
    "import cv2  # type: ignore\n",
    "import numpy as np # type: ignore"
   ]
  },
  {
   "cell_type": "code",
   "execution_count": 2,
   "metadata": {},
   "outputs": [],
   "source": [
    "def calculateError(setpoint: np.ndarray[int, int], current=np.array([0, 0])) -> float:\n",
    "    # error = (setpoint - current) ** 2\n",
    "    # return sum(error) ** 0.5\n",
    "    return setpoint - current"
   ]
  },
  {
   "cell_type": "code",
   "execution_count": 3,
   "metadata": {},
   "outputs": [],
   "source": [
    "def calculateProportionality(error, proportionality=1) -> float:\n",
    "    return proportionality * error"
   ]
  },
  {
   "cell_type": "code",
   "execution_count": 4,
   "metadata": {},
   "outputs": [],
   "source": [
    "def calculateIntegral(error, currentIntegralError, frameRate, proportionality=1) -> tuple[float, float]:\n",
    "    integral = currentIntegralError + error * (1 / frameRate)\n",
    "    return (integral, proportionality * integral)"
   ]
  },
  {
   "cell_type": "code",
   "execution_count": 5,
   "metadata": {},
   "outputs": [],
   "source": [
    "def calculateDifferential(error, prevError, frameRate, proportionality=1) -> float:\n",
    "    time = 1 / frameRate\n",
    "    differential = (error - prevError) / time\n",
    "    return differential * proportionality"
   ]
  },
  {
   "cell_type": "code",
   "execution_count": null,
   "metadata": {},
   "outputs": [
    {
     "name": "stdout",
     "output_type": "stream",
     "text": [
      "(0, 0)\n",
      "Error: [100 100], prop: [0.1 0.1], int: [3.33333333 3.33333333], diff: [300. 300.]\n",
      "(303, 303)\n",
      "Error: [-203 -203], prop: [-0.203 -0.203], int: [-3.43333333 -3.43333333], diff: [-909. -909.]\n",
      "(-609, -609)\n",
      "Error: [709 709], prop: [0.709 0.709], int: [20.2 20.2], diff: [2736. 2736.]\n",
      "(2147, 2147)\n",
      "Error: [-2047 -2047], prop: [-2.047 -2.047], int: [-48.03333333 -48.03333333], diff: [-8268. -8268.]\n",
      "(-6171, -6171)\n",
      "Error: [6271 6271], prop: [6.271 6.271], int: [161. 161.], diff: [24954. 24954.]\n"
     ]
    }
   ],
   "source": [
    "cap = cv2.VideoCapture(0)\n",
    "cap.set(3, 640)\n",
    "cap.set(4, 480)\n",
    "\n",
    "success, img = cap.read()\n",
    "cv2.imshow('Webcam', img)\n",
    "current = np.array([0, 0], dtype=np.int64)\n",
    "setpoint = np.array([100, 100], dtype=np.int64)\n",
    "preverror = 0\n",
    "interror = 0\n",
    "cv2.circle(img, current, radius=10, color=(0, 0, 255), thickness=-1)\n",
    "\n",
    "while 1:\n",
    "    success, img = cap.read()\n",
    "    cv2.imshow('Webcam', img)\n",
    "    print((int(current[0]), int(current[1])))\n",
    "    # cv2.circle(img, center=(int(current[0]), int(current[1])), radius=10, color=(0, 0, 255), thickness=-1)\n",
    "    cv2.circle(img, center=(200, 200), radius=10, color=(0, 0, 255), thickness=-1)\n",
    "\n",
    "    error = calculateError(current=current, setpoint=setpoint)\n",
    "\n",
    "    properror = calculateProportionality(error, 1e-3)\n",
    "    interror, currentInt = calculateIntegral(error, interror, 30, 1e-11)\n",
    "    differror = calculateDifferential(error, preverror, 30, 2 * 1e-2)\n",
    "    print(f\"Error: {error}, prop: {properror}, int: {interror}, diff: {differror}\")\n",
    "    preverror = error\n",
    "\n",
    "    current += np.int64(properror + interror + differror)\n",
    "    # current[1] += int(properror + interror + differror)\n",
    "\n",
    "    if cv2.waitKey(0) == ord('q'):\n",
    "        break\n",
    "\n",
    "cap.release()\n",
    "cv2.destroyAllWindows()\n"
   ]
  },
  {
   "cell_type": "code",
   "execution_count": 7,
   "metadata": {},
   "outputs": [],
   "source": [
    "# Open the default camera (0)\n",
    "cap = cv2.VideoCapture(0)\n",
    "\n",
    "if not cap.isOpened():\n",
    "    print(\"Error: Could not open camera.\")\n",
    "    exit()\n",
    "\n",
    "while True:\n",
    "    # Read frame from the camera\n",
    "    ret, frame = cap.read()\n",
    "    \n",
    "    if not ret:\n",
    "        print(\"Error: Could not read frame.\")\n",
    "        break\n",
    "\n",
    "    # Display the frame\n",
    "    cv2.imshow(\"Camera Feed\", frame)\n",
    "\n",
    "    # Exit when 'q' is pressed\n",
    "    if cv2.waitKey(1) & 0xFF == ord('q'):\n",
    "        break\n",
    "\n",
    "# Release the camera and close windows\n",
    "cap.release()\n",
    "cv2.destroyAllWindows()"
   ]
  },
  {
   "cell_type": "code",
   "execution_count": null,
   "metadata": {},
   "outputs": [],
   "source": []
  }
 ],
 "metadata": {
  "kernelspec": {
   "display_name": "intras",
   "language": "python",
   "name": "python3"
  },
  "language_info": {
   "codemirror_mode": {
    "name": "ipython",
    "version": 3
   },
   "file_extension": ".py",
   "mimetype": "text/x-python",
   "name": "python",
   "nbconvert_exporter": "python",
   "pygments_lexer": "ipython3",
   "version": "3.13.2"
  }
 },
 "nbformat": 4,
 "nbformat_minor": 2
}
